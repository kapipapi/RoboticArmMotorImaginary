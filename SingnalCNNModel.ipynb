{
 "cells": [
  {
   "cell_type": "code",
   "execution_count": 1,
   "id": "fe6bfce3-2820-475f-a7b9-247fe83fac22",
   "metadata": {
    "tags": []
   },
   "outputs": [],
   "source": [
    "import torch\n",
    "import torch.nn as nn\n",
    "from torch.utils.data import DataLoader"
   ]
  },
  {
   "cell_type": "code",
   "execution_count": 8,
   "id": "48150918-165f-4b8f-96b8-a7a130614b77",
   "metadata": {
    "tags": []
   },
   "outputs": [],
   "source": [
    "import numpy as np\n",
    "from torchvision.transforms import Compose\n",
    "from Utilities.transforms import minmax\n",
    "from Utilities.dataset import EEGDataset\n",
    "\n",
    "transforms = Compose([\n",
    "    minmax,\n",
    "])\n",
    "\n",
    "dataset = EEGDataset(\"./dataset\", transforms)\n",
    "train_loader = DataLoader(dataset, batch_size=4, num_workers=4)"
   ]
  },
  {
   "cell_type": "code",
   "execution_count": 9,
   "id": "f252f49d-703a-41b4-ad6b-b3299d460183",
   "metadata": {
    "tags": []
   },
   "outputs": [],
   "source": [
    "import torchmetrics\n",
    "from torch.optim import AdamW\n",
    "from torch.nn.functional import nll_loss\n",
    "import lightning.pytorch as pl\n",
    "\n",
    "class SignalCNN(pl.LightningModule):\n",
    "    channels = 16\n",
    "    \n",
    "    def __init__(self):\n",
    "        super(SignalCNN, self).__init__()\n",
    "        \n",
    "        self.features = nn.Sequential(\n",
    "            nn.Conv1d(\n",
    "                in_channels = self.channels, \n",
    "                out_channels = 32, \n",
    "                kernel_size = 11,\n",
    "                stride = 3,\n",
    "                dilation = 3\n",
    "            ),\n",
    "            nn.ReLU(),\n",
    "            nn.AvgPool1d(2),\n",
    "            nn.BatchNorm1d(32),\n",
    "            nn.Dropout1d(p=0.6),\n",
    "            \n",
    "            nn.Conv1d(\n",
    "                in_channels = 32, \n",
    "                out_channels = 64, \n",
    "                kernel_size = 5,\n",
    "                stride = 2,\n",
    "                dilation = 1\n",
    "            ),\n",
    "            nn.ReLU(),\n",
    "            nn.AvgPool1d(2),\n",
    "            nn.BatchNorm1d(64),\n",
    "            nn.Dropout1d(p=0.6),\n",
    "            \n",
    "            nn.Conv1d(\n",
    "                in_channels = 64, \n",
    "                out_channels = 128, \n",
    "                kernel_size = 3,\n",
    "                stride = 2,\n",
    "                dilation = 1\n",
    "            ),\n",
    "            nn.ReLU(),\n",
    "            nn.AvgPool1d(3),\n",
    "            nn.BatchNorm1d(128),\n",
    "            nn.Dropout1d(p=0.6),\n",
    "            \n",
    "            nn.Conv1d(\n",
    "                in_channels = 128, \n",
    "                out_channels = 128, \n",
    "                kernel_size = 1,\n",
    "                stride = 2,\n",
    "                dilation = 1\n",
    "            ),\n",
    "            nn.ReLU(),\n",
    "            nn.AvgPool1d(3),\n",
    "            nn.BatchNorm1d(128),\n",
    "            nn.Dropout1d(p=0.6),\n",
    "        )\n",
    "        \n",
    "        self.classifier = nn.Sequential(\n",
    "            nn.Flatten(),\n",
    "            \n",
    "            nn.Linear(1152, 512),\n",
    "            nn.BatchNorm1d(512),\n",
    "            nn.Dropout1d(p=0.6),\n",
    "            \n",
    "            nn.Linear(512, 128),\n",
    "            nn.BatchNorm1d(128),\n",
    "            nn.Dropout1d(p=0.6),\n",
    "            \n",
    "            nn.Linear(128, 3),\n",
    "        )\n",
    "        \n",
    "        self.accuracy = torchmetrics.Accuracy(\"multiclass\", num_classes=3)\n",
    "        self.val_metrics = torchmetrics.MetricCollection(\n",
    "            [\n",
    "                torchmetrics.Accuracy(\"multiclass\", num_classes=3),\n",
    "                torchmetrics.Precision(task='multiclass', num_classes=3, average='macro'),\n",
    "                torchmetrics.Recall(task='multiclass', num_classes=3, average='macro'),\n",
    "                torchmetrics.F1Score(task='multiclass', num_classes=3, average='macro'),\n",
    "            ]\n",
    "        )\n",
    "\n",
    "    def forward(self, x):\n",
    "        x = self.features(x)\n",
    "        x = self.classifier(x)\n",
    "        return x\n",
    "    \n",
    "    def configure_optimizers(self):\n",
    "        return AdamW(self.parameters(), lr=7e-5, weight_decay=8e-2)\n",
    "    \n",
    "    def training_step(self, batch, batch_idx):\n",
    "        data, label = batch\n",
    "        output = self(data)\n",
    "        loss = nll_loss(output, label)\n",
    "        self.log(\"Training loss\", loss, on_step=False, on_epoch=True, prog_bar=True)\n",
    "        self.accuracy(output, label)\n",
    "        self.log(\"Training accuracy\", self.accuracy, on_step=True, on_epoch=False, prog_bar=True)\n",
    "        return loss\n",
    "    \n",
    "    def validation_step(self, batch, batch_idx):\n",
    "        data, label = batch\n",
    "        output = self(data)\n",
    "        loss = nll_loss(output, label)\n",
    "        self.log(\"Val loss\", loss, on_step=False, on_epoch=True, prog_bar=True)\n",
    "        self.val_metrics.update(output, label.type(torch.int))\n",
    "        return output, label"
   ]
  },
  {
   "cell_type": "code",
   "execution_count": 10,
   "id": "faf29611-9d8b-4f1c-bc62-14337cd0c1e9",
   "metadata": {
    "tags": []
   },
   "outputs": [],
   "source": [
    "model = SignalCNN()"
   ]
  },
  {
   "cell_type": "code",
   "execution_count": 11,
   "id": "41cb9cd9-9fe0-4881-9d15-0f87c8b28faf",
   "metadata": {
    "tags": []
   },
   "outputs": [],
   "source": [
    "# from torchsummary import summary\n",
    "\n",
    "# summary(model, (16, 8192))"
   ]
  },
  {
   "cell_type": "markdown",
   "id": "55d24675-8184-4450-b58b-8fd1a7808bf7",
   "metadata": {},
   "source": [
    "# Train"
   ]
  },
  {
   "cell_type": "code",
   "execution_count": 12,
   "id": "f7e18236-6a8d-4acd-8dcb-fc633bd996ca",
   "metadata": {
    "tags": []
   },
   "outputs": [],
   "source": [
    "!export CUDA_LAUNCH_BLOCKING=\"1\""
   ]
  },
  {
   "cell_type": "code",
   "execution_count": 14,
   "id": "6ed2b88b-1979-4988-9ad6-eab888ddf747",
   "metadata": {
    "tags": []
   },
   "outputs": [
    {
     "name": "stderr",
     "output_type": "stream",
     "text": [
      "GPU available: True (cuda), used: True\n",
      "TPU available: False, using: 0 TPU cores\n",
      "IPU available: False, using: 0 IPUs\n",
      "HPU available: False, using: 0 HPUs\n",
      "LOCAL_RANK: 0 - CUDA_VISIBLE_DEVICES: [0]\n",
      "\n",
      "  | Name        | Type               | Params\n",
      "---------------------------------------------------\n",
      "0 | features    | Sequential         | 57.9 K\n",
      "1 | classifier  | Sequential         | 657 K \n",
      "2 | accuracy    | MulticlassAccuracy | 0     \n",
      "3 | val_metrics | MetricCollection   | 0     \n",
      "---------------------------------------------------\n",
      "715 K     Trainable params\n",
      "0         Non-trainable params\n",
      "715 K     Total params\n",
      "2.862     Total estimated model params size (MB)\n"
     ]
    },
    {
     "name": "stdout",
     "output_type": "stream",
     "text": [
      "Epoch 9: 100%|████████████████████████████████████████████████████████| 60/60 [00:00<00:00, 90.47it/s, v_num=17, Training accuracy=0.500, Training loss=-.187]"
     ]
    },
    {
     "name": "stderr",
     "output_type": "stream",
     "text": [
      "`Trainer.fit` stopped: `max_epochs=10` reached.\n"
     ]
    },
    {
     "name": "stdout",
     "output_type": "stream",
     "text": [
      "Epoch 9: 100%|████████████████████████████████████████████████████████| 60/60 [00:00<00:00, 86.79it/s, v_num=17, Training accuracy=0.500, Training loss=-.187]\n"
     ]
    }
   ],
   "source": [
    "trainer = pl.Trainer(limit_train_batches=100, max_epochs=10)\n",
    "trainer.fit(model=model, train_dataloaders=train_loader)"
   ]
  },
  {
   "cell_type": "code",
   "execution_count": null,
   "id": "4ae3f35e-fa27-4829-846c-6ccf79a63149",
   "metadata": {},
   "outputs": [],
   "source": []
  }
 ],
 "metadata": {
  "kernelspec": {
   "display_name": "Python 3 (ipykernel)",
   "language": "python",
   "name": "python3"
  },
  "language_info": {
   "codemirror_mode": {
    "name": "ipython",
    "version": 3
   },
   "file_extension": ".py",
   "mimetype": "text/x-python",
   "name": "python",
   "nbconvert_exporter": "python",
   "pygments_lexer": "ipython3",
   "version": "3.8.0"
  }
 },
 "nbformat": 4,
 "nbformat_minor": 5
}
