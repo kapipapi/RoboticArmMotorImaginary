{
 "cells": [
  {
   "cell_type": "code",
   "execution_count": 13,
   "id": "ccbd7362-0c38-4f94-86e6-059978946da1",
   "metadata": {
    "tags": []
   },
   "outputs": [],
   "source": [
    "import numpy as np\n",
    "from torchvision.transforms import Compose\n",
    "\n",
    "from Utilities.dataloader import EEGDataLoader"
   ]
  },
  {
   "cell_type": "code",
   "execution_count": 14,
   "id": "a53fd853-08f8-4b18-8fea-a66c552c1c3f",
   "metadata": {
    "tags": []
   },
   "outputs": [],
   "source": [
    "def minmax(signals):\n",
    "    for s in signals:\n",
    "        s = (s - np.min(s)) / (np.max(s) - np.min(s))\n",
    "\n",
    "transforms = Compose([\n",
    "    minmax,\n",
    "])"
   ]
  },
  {
   "cell_type": "code",
   "execution_count": 15,
   "id": "f0a52288-b1a6-481c-b5a4-4a00ec2932e2",
   "metadata": {
    "tags": []
   },
   "outputs": [
    {
     "name": "stdout",
     "output_type": "stream",
     "text": [
      "240\n"
     ]
    }
   ],
   "source": [
    "dl = EEGDataLoader(\"./dataset\", transforms)"
   ]
  },
  {
   "cell_type": "code",
   "execution_count": 16,
   "id": "98b582d1-d0a7-4d0d-8459-b1ca3b58a26a",
   "metadata": {
    "tags": []
   },
   "outputs": [],
   "source": [
    "signal, label = dl.__getitem__(0)"
   ]
  },
  {
   "cell_type": "code",
   "execution_count": 20,
   "id": "bef7ea08-d4ce-4162-9a21-398bb1dffe8a",
   "metadata": {
    "tags": []
   },
   "outputs": [
    {
     "name": "stdout",
     "output_type": "stream",
     "text": [
      "None\n"
     ]
    }
   ],
   "source": [
    "print(signal)"
   ]
  },
  {
   "cell_type": "code",
   "execution_count": 18,
   "id": "651d9197-5779-49cc-bd7d-4b10c4249bed",
   "metadata": {
    "tags": []
   },
   "outputs": [
    {
     "data": {
      "text/plain": [
       "'LEFT'"
      ]
     },
     "execution_count": 18,
     "metadata": {},
     "output_type": "execute_result"
    }
   ],
   "source": [
    "label"
   ]
  },
  {
   "cell_type": "code",
   "execution_count": null,
   "id": "0e96f2c4-f5aa-48d7-a15d-2a360b7ebe28",
   "metadata": {},
   "outputs": [],
   "source": []
  }
 ],
 "metadata": {
  "kernelspec": {
   "display_name": "Python 3 (ipykernel)",
   "language": "python",
   "name": "python3"
  },
  "language_info": {
   "codemirror_mode": {
    "name": "ipython",
    "version": 3
   },
   "file_extension": ".py",
   "mimetype": "text/x-python",
   "name": "python",
   "nbconvert_exporter": "python",
   "pygments_lexer": "ipython3",
   "version": "3.10.6"
  }
 },
 "nbformat": 4,
 "nbformat_minor": 5
}
