{
 "cells": [
  {
   "cell_type": "code",
   "execution_count": 1,
   "id": "ccbd7362-0c38-4f94-86e6-059978946da1",
   "metadata": {
    "tags": []
   },
   "outputs": [],
   "source": [
    "from Utilities.dataloader import EEGDataLoader"
   ]
  },
  {
   "cell_type": "code",
   "execution_count": 2,
   "id": "f0a52288-b1a6-481c-b5a4-4a00ec2932e2",
   "metadata": {
    "tags": []
   },
   "outputs": [
    {
     "name": "stdout",
     "output_type": "stream",
     "text": [
      "240\n"
     ]
    }
   ],
   "source": [
    "dl = EEGDataLoader(\"./dataset\")"
   ]
  },
  {
   "cell_type": "code",
   "execution_count": 3,
   "id": "98b582d1-d0a7-4d0d-8459-b1ca3b58a26a",
   "metadata": {
    "tags": []
   },
   "outputs": [],
   "source": [
    "signal, label = dl.__getitem__(0)"
   ]
  },
  {
   "cell_type": "code",
   "execution_count": 4,
   "id": "bef7ea08-d4ce-4162-9a21-398bb1dffe8a",
   "metadata": {
    "tags": []
   },
   "outputs": [
    {
     "data": {
      "text/plain": [
       "array([[0.6238747 , 0.6249252 , 0.6229816 , ..., 0.61678   , 0.6200659 ,\n",
       "        0.62368387],\n",
       "       [0.4850845 , 0.48331293, 0.4811339 , ..., 0.4654117 , 0.46681193,\n",
       "        0.46904606],\n",
       "       [0.44882187, 0.44464526, 0.44235888, ..., 0.47586745, 0.47724685,\n",
       "        0.48020518],\n",
       "       ...,\n",
       "       [0.43291304, 0.42916968, 0.42630076, ..., 0.41747892, 0.41827092,\n",
       "        0.41898516],\n",
       "       [0.4232989 , 0.41856256, 0.41442814, ..., 0.41738787, 0.4162714 ,\n",
       "        0.4177936 ],\n",
       "       [0.52534   , 0.5217388 , 0.5265192 , ..., 0.5260151 , 0.522299  ,\n",
       "        0.5267445 ]], dtype=float32)"
      ]
     },
     "execution_count": 4,
     "metadata": {},
     "output_type": "execute_result"
    }
   ],
   "source": [
    "signal"
   ]
  },
  {
   "cell_type": "code",
   "execution_count": 5,
   "id": "651d9197-5779-49cc-bd7d-4b10c4249bed",
   "metadata": {
    "tags": []
   },
   "outputs": [
    {
     "data": {
      "text/plain": [
       "'LEFT'"
      ]
     },
     "execution_count": 5,
     "metadata": {},
     "output_type": "execute_result"
    }
   ],
   "source": [
    "label"
   ]
  },
  {
   "cell_type": "code",
   "execution_count": null,
   "id": "0e96f2c4-f5aa-48d7-a15d-2a360b7ebe28",
   "metadata": {},
   "outputs": [],
   "source": []
  }
 ],
 "metadata": {
  "kernelspec": {
   "display_name": "Python 3 (ipykernel)",
   "language": "python",
   "name": "python3"
  },
  "language_info": {
   "codemirror_mode": {
    "name": "ipython",
    "version": 3
   },
   "file_extension": ".py",
   "mimetype": "text/x-python",
   "name": "python",
   "nbconvert_exporter": "python",
   "pygments_lexer": "ipython3",
   "version": "3.10.6"
  }
 },
 "nbformat": 4,
 "nbformat_minor": 5
}
