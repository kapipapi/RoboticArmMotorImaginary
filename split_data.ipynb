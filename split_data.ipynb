{
 "cells": [
  {
   "cell_type": "code",
   "execution_count": 1,
   "id": "a120f1b9-178a-447f-81fe-fe36746ab5da",
   "metadata": {
    "tags": []
   },
   "outputs": [],
   "source": [
    "from Utilities.preprocessing import split_file"
   ]
  },
  {
   "cell_type": "code",
   "execution_count": 2,
   "id": "4851ded2-382d-4d46-b07e-4aba5bb5163e",
   "metadata": {
    "tags": []
   },
   "outputs": [],
   "source": [
    "filenames = [\n",
    "    \"./dataset/sesja1_pawel_zaciskanie_dloni.bdf\",\n",
    "    \"./dataset/sesja2_pawel_zaciskanie_dloni.bdf\",\n",
    "    \"./dataset/sesja3_pawel_zaciskanie_dloni.bdf\",\n",
    "    \"./dataset/sesja4_pawel_zaciskanie_dloni.bdf\",\n",
    "]"
   ]
  },
  {
   "cell_type": "code",
   "execution_count": 3,
   "id": "ff61c197-2724-45eb-b108-1e696e90a805",
   "metadata": {
    "tags": []
   },
   "outputs": [
    {
     "name": "stdout",
     "output_type": "stream",
     "text": [
      "./dataset/sesja1_pawel_zaciskanie_dloni.bdf\n",
      "./dataset/sesja2_pawel_zaciskanie_dloni.bdf                                                                         \n",
      "./dataset/sesja3_pawel_zaciskanie_dloni.bdf                                                                         \n",
      "./dataset/sesja4_pawel_zaciskanie_dloni.bdf                                                                         \n",
      "                                                                                                                    \n"
     ]
    }
   ],
   "source": [
    "for filename in filenames:\n",
    "    print(filename)\n",
    "    split_file(filename)\n",
    "print(\" \" * 100)"
   ]
  },
  {
   "cell_type": "code",
   "execution_count": null,
   "id": "4ab13b8e-218a-4225-aeb8-dea69afc1e42",
   "metadata": {},
   "outputs": [],
   "source": []
  }
 ],
 "metadata": {
  "kernelspec": {
   "display_name": "Python 3 (ipykernel)",
   "language": "python",
   "name": "python3"
  },
  "language_info": {
   "codemirror_mode": {
    "name": "ipython",
    "version": 3
   },
   "file_extension": ".py",
   "mimetype": "text/x-python",
   "name": "python",
   "nbconvert_exporter": "python",
   "pygments_lexer": "ipython3",
   "version": "3.10.6"
  }
 },
 "nbformat": 4,
 "nbformat_minor": 5
}
