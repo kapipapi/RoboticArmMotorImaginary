{
 "cells": [
  {
   "cell_type": "code",
   "execution_count": 6,
   "id": "a120f1b9-178a-447f-81fe-fe36746ab5da",
   "metadata": {
    "tags": []
   },
   "outputs": [],
   "source": [
    "from Utilities.preprocessing import split_file"
   ]
  },
  {
   "cell_type": "code",
   "execution_count": 7,
   "id": "4851ded2-382d-4d46-b07e-4aba5bb5163e",
   "metadata": {
    "tags": []
   },
   "outputs": [],
   "source": [
    "filenames = [\n",
    "    \"./dataset/sesja1_pawel_zaciskanie_dloni.bdf\",\n",
    "    \"./dataset/sesja2_pawel_zaciskanie_dloni.bdf\",\n",
    "    \"./dataset/sesja3_pawel_zaciskanie_dloni.bdf\",\n",
    "    \"./dataset/sesja4_pawel_zaciskanie_dloni.bdf\",\n",
    "]"
   ]
  },
  {
   "cell_type": "code",
   "execution_count": 9,
   "id": "ff61c197-2724-45eb-b108-1e696e90a805",
   "metadata": {
    "tags": []
   },
   "outputs": [
    {
     "data": {
      "application/vnd.jupyter.widget-view+json": {
       "model_id": "864db726de164999a6ef995f189123e6",
       "version_major": 2,
       "version_minor": 0
      },
      "text/plain": [
       "  0%|          | 0/458 [00:00<?, ?it/s]"
      ]
     },
     "metadata": {},
     "output_type": "display_data"
    },
    {
     "data": {
      "application/vnd.jupyter.widget-view+json": {
       "model_id": "8f434e86c42a4564bc1641f82ccb5b17",
       "version_major": 2,
       "version_minor": 0
      },
      "text/plain": [
       "markers:   0%|          | 0/937984 [00:00<?, ?it/s]"
      ]
     },
     "metadata": {},
     "output_type": "display_data"
    },
    {
     "data": {
      "application/vnd.jupyter.widget-view+json": {
       "model_id": "601b96e8710d418c9a151c55eaef60b9",
       "version_major": 2,
       "version_minor": 0
      },
      "text/plain": [
       "  0%|          | 0/435 [00:00<?, ?it/s]"
      ]
     },
     "metadata": {},
     "output_type": "display_data"
    },
    {
     "data": {
      "application/vnd.jupyter.widget-view+json": {
       "model_id": "9d32c153c3104e93a478c9220de95010",
       "version_major": 2,
       "version_minor": 0
      },
      "text/plain": [
       "markers:   0%|          | 0/890880 [00:00<?, ?it/s]"
      ]
     },
     "metadata": {},
     "output_type": "display_data"
    },
    {
     "data": {
      "application/vnd.jupyter.widget-view+json": {
       "model_id": "1e82da0b2d894df88849af12da173cbb",
       "version_major": 2,
       "version_minor": 0
      },
      "text/plain": [
       "  0%|          | 0/437 [00:00<?, ?it/s]"
      ]
     },
     "metadata": {},
     "output_type": "display_data"
    },
    {
     "data": {
      "application/vnd.jupyter.widget-view+json": {
       "model_id": "bfeb1aa5e42445408e5b1161e422ef1a",
       "version_major": 2,
       "version_minor": 0
      },
      "text/plain": [
       "markers:   0%|          | 0/894976 [00:00<?, ?it/s]"
      ]
     },
     "metadata": {},
     "output_type": "display_data"
    },
    {
     "data": {
      "application/vnd.jupyter.widget-view+json": {
       "model_id": "38f2406b31d7421caa7a873404afec29",
       "version_major": 2,
       "version_minor": 0
      },
      "text/plain": [
       "  0%|          | 0/430 [00:00<?, ?it/s]"
      ]
     },
     "metadata": {},
     "output_type": "display_data"
    },
    {
     "data": {
      "application/vnd.jupyter.widget-view+json": {
       "model_id": "a0d58770735249fcb3014bac334f0c0c",
       "version_major": 2,
       "version_minor": 0
      },
      "text/plain": [
       "markers:   0%|          | 0/880640 [00:00<?, ?it/s]"
      ]
     },
     "metadata": {},
     "output_type": "display_data"
    }
   ],
   "source": [
    "for filename in filenames:\n",
    "    split_file(filename)"
   ]
  },
  {
   "cell_type": "code",
   "execution_count": null,
   "id": "4ab13b8e-218a-4225-aeb8-dea69afc1e42",
   "metadata": {},
   "outputs": [],
   "source": []
  }
 ],
 "metadata": {
  "kernelspec": {
   "display_name": "Python 3 (ipykernel)",
   "language": "python",
   "name": "python3"
  },
  "language_info": {
   "codemirror_mode": {
    "name": "ipython",
    "version": 3
   },
   "file_extension": ".py",
   "mimetype": "text/x-python",
   "name": "python",
   "nbconvert_exporter": "python",
   "pygments_lexer": "ipython3",
   "version": "3.10.6"
  }
 },
 "nbformat": 4,
 "nbformat_minor": 5
}
