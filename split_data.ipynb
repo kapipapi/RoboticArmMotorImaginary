{
 "cells": [
  {
   "cell_type": "code",
   "execution_count": 2,
   "id": "a120f1b9-178a-447f-81fe-fe36746ab5da",
   "metadata": {
    "tags": []
   },
   "outputs": [],
   "source": [
    "from Utilities.preprocessing import split_file"
   ]
  },
  {
   "cell_type": "code",
   "execution_count": 3,
   "id": "4851ded2-382d-4d46-b07e-4aba5bb5163e",
   "metadata": {
    "tags": []
   },
   "outputs": [],
   "source": [
    "filenames = [\n",
    "    \"/home/kacper/Documents/RoboticArmMotorImaginary/dataset/2_kub1_2.bdf\",\n",
    "    \"/home/kacper/Documents/RoboticArmMotorImaginary/dataset/2_kub2_2.bdf\",\n",
    "    \"/home/kacper/Documents/RoboticArmMotorImaginary/dataset/2_kub3_2.bdf\",\n",
    "    \"/home/kacper/Documents/RoboticArmMotorImaginary/dataset/2_kub4_2.bdf\",\n",
    "    \"/home/kacper/Documents/RoboticArmMotorImaginary/dataset/2_kub5_2.bdf\",\n",
    "    \"/home/kacper/Documents/RoboticArmMotorImaginary/dataset/2_kub6_2.bdf\",\n",
    "    \"/home/kacper/Documents/RoboticArmMotorImaginary/dataset/2_kub7_2.bdf\",\n",
    "    \"/home/kacper/Documents/RoboticArmMotorImaginary/dataset/2_kub8_2.bdf\",\n",
    "    \"/home/kacper/Documents/RoboticArmMotorImaginary/dataset/2_kub9_2.bdf\",\n",
    "    \"/home/kacper/Documents/RoboticArmMotorImaginary/dataset/2_kub10_2.bdf\",\n",
    "    \"/home/kacper/Documents/RoboticArmMotorImaginary/dataset/2_nik1_i_2.bdf\",\n",
    "    \"/home/kacper/Documents/RoboticArmMotorImaginary/dataset/2_nik3_i_4.bdf\",\n",
    "    \"/home/kacper/Documents/RoboticArmMotorImaginary/dataset/2_nik5_i_6.bdf\",\n",
    "    \"/home/kacper/Documents/RoboticArmMotorImaginary/dataset/2_nik9_i_10.bdf\",\n",
    "    \"/home/kacper/Documents/RoboticArmMotorImaginary/dataset/3_kub1_3.bdf\",\n",
    "    \"/home/kacper/Documents/RoboticArmMotorImaginary/dataset/3_kub2_3.bdf\",\n",
    "    \"/home/kacper/Documents/RoboticArmMotorImaginary/dataset/3_kub3_3.bdf\",\n",
    "    \"/home/kacper/Documents/RoboticArmMotorImaginary/dataset/3_kub5_3.bdf\",\n",
    "    \"/home/kacper/Documents/RoboticArmMotorImaginary/dataset/3_kub6_3_ny.bdf\",\n",
    "    \"/home/kacper/Documents/RoboticArmMotorImaginary/dataset/3_kub10_3_arabski.bdf\",\n",
    "    \"/home/kacper/Documents/RoboticArmMotorImaginary/dataset/6_kuba2.bdf\",\n",
    "]"
   ]
  },
  {
   "cell_type": "code",
   "execution_count": 4,
   "id": "ff61c197-2724-45eb-b108-1e696e90a805",
   "metadata": {
    "tags": []
   },
   "outputs": [
    {
     "name": "stdout",
     "output_type": "stream",
     "text": [
      "/home/kacper/Documents/RoboticArmMotorImaginary/dataset/2_kub1_2.bdf\n",
      "/home/kacper/Documents/RoboticArmMotorImaginary/dataset/2_kub2_2.bdf                                                \n",
      "/home/kacper/Documents/RoboticArmMotorImaginary/dataset/2_kub3_2.bdf                                                \n",
      "/home/kacper/Documents/RoboticArmMotorImaginary/dataset/2_kub4_2.bdf                                                \n",
      "/home/kacper/Documents/RoboticArmMotorImaginary/dataset/2_kub5_2.bdf                                                  \n",
      "/home/kacper/Documents/RoboticArmMotorImaginary/dataset/2_kub6_2.bdf                                                \n",
      "/home/kacper/Documents/RoboticArmMotorImaginary/dataset/2_kub7_2.bdf                                                \n",
      "/home/kacper/Documents/RoboticArmMotorImaginary/dataset/2_kub8_2.bdf                                                \n",
      "/home/kacper/Documents/RoboticArmMotorImaginary/dataset/2_kub9_2.bdf                                                964608                                                                                                     \n",
      "/home/kacper/Documents/RoboticArmMotorImaginary/dataset/2_kub10_2.bdf                                               \n",
      "/home/kacper/Documents/RoboticArmMotorImaginary/dataset/2_nik1_i_2.bdf                                              \n",
      "/home/kacper/Documents/RoboticArmMotorImaginary/dataset/2_nik3_i_4.bdf                                                971648                                                                                                     \n",
      "/home/kacper/Documents/RoboticArmMotorImaginary/dataset/2_nik5_i_6.bdf                                                \n",
      "/home/kacper/Documents/RoboticArmMotorImaginary/dataset/2_nik9_i_10.bdf                                               \n",
      "/home/kacper/Documents/RoboticArmMotorImaginary/dataset/3_kub1_3.bdf                                                  \n",
      "/home/kacper/Documents/RoboticArmMotorImaginary/dataset/3_kub2_3.bdf                                                  \n",
      "/home/kacper/Documents/RoboticArmMotorImaginary/dataset/3_kub3_3.bdf                                                \n",
      "/home/kacper/Documents/RoboticArmMotorImaginary/dataset/3_kub5_3.bdf                                                \n",
      "/home/kacper/Documents/RoboticArmMotorImaginary/dataset/3_kub6_3_ny.bdf                                               \n",
      "/home/kacper/Documents/RoboticArmMotorImaginary/dataset/3_kub10_3_arabski.bdf                                       \n",
      "/home/kacper/Documents/RoboticArmMotorImaginary/dataset/6_kuba2.bdf                                                 \n",
      "                                                                                                                    \n"
     ]
    }
   ],
   "source": [
    "for filename in filenames:\n",
    "    print(filename)\n",
    "    split_file(filename)\n",
    "print(\" \" * 100)"
   ]
  },
  {
   "cell_type": "code",
   "execution_count": null,
   "id": "4ab13b8e-218a-4225-aeb8-dea69afc1e42",
   "metadata": {},
   "outputs": [],
   "source": []
  }
 ],
 "metadata": {
  "kernelspec": {
   "display_name": "Python 3 (ipykernel)",
   "language": "python",
   "name": "python3"
  },
  "language_info": {
   "codemirror_mode": {
    "name": "ipython",
    "version": 3
   },
   "file_extension": ".py",
   "mimetype": "text/x-python",
   "name": "python",
   "nbconvert_exporter": "python",
   "pygments_lexer": "ipython3",
   "version": "3.10.6"
  }
 },
 "nbformat": 4,
 "nbformat_minor": 5
}
