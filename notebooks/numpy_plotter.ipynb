{
 "cells": [
  {
   "cell_type": "code",
   "execution_count": 1,
   "id": "232b2e18-71cc-4bda-92c1-8280ad4a1b75",
   "metadata": {
    "tags": []
   },
   "outputs": [],
   "source": [
    "from utils.preprocessing import EEGDataProcessor\n",
    "from utils.dataset import EEGDataset, Compose"
   ]
  },
  {
   "cell_type": "code",
   "execution_count": 5,
   "id": "b92d9555-3b85-4681-9278-17e6025b28d4",
   "metadata": {
    "tags": []
   },
   "outputs": [],
   "source": [
    "pp = EEGDataProcessor()\n",
    "\n",
    "pp.DOWNSAMPLED_FREQ = 512\n",
    "\n",
    "transforms = Compose([\n",
    "    pp.correct_offset,\n",
    "    pp.filter,\n",
    "    pp.downsample,\n",
    "    pp.normalize,\n",
    "])\n",
    "\n",
    "dataset = EEGDataset(\"../dataset\", transforms)"
   ]
  },
  {
   "cell_type": "code",
   "execution_count": 11,
   "id": "60063900-7996-40d4-a825-ef5b43f4453d",
   "metadata": {
    "tags": []
   },
   "outputs": [],
   "source": [
    "samples = []\n",
    "labels = []\n",
    "\n",
    "impulses_names = [\"LEFT\", \"RIGHT\", \"RELAX\", \"FEET\"]\n",
    "\n",
    "for data, label in dataset:\n",
    "    samples.append(data)\n",
    "    labels.append(impulses_names[label])"
   ]
  },
  {
   "cell_type": "code",
   "execution_count": 12,
   "id": "8574e3ba-dd6e-439d-81fc-6138ff72b51b",
   "metadata": {
    "tags": []
   },
   "outputs": [
    {
     "data": {
      "application/vnd.jupyter.widget-view+json": {
       "model_id": "f1637241da2c4da7be243d6303235c5e",
       "version_major": 2,
       "version_minor": 0
      },
      "text/plain": [
       "interactive(children=(IntSlider(value=0, description='x', layout=Layout(width='1000px'), max=483), Output()), …"
      ]
     },
     "metadata": {},
     "output_type": "display_data"
    },
    {
     "data": {
      "text/plain": [
       "<function __main__.show_image(x)>"
      ]
     },
     "execution_count": 12,
     "metadata": {},
     "output_type": "execute_result"
    }
   ],
   "source": [
    "from ipywidgets import Layout, interact, IntSlider\n",
    "import matplotlib.pyplot as plt\n",
    "\n",
    "def show_image(x):\n",
    "    plt.figure(figsize=(8, 7), dpi=100)\n",
    "    plt.title(labels[x])\n",
    "    plt.plot(samples[x].transpose())\n",
    "    \n",
    "interact(show_image, x=IntSlider(0, 0, len(samples)-1, 1, layout=Layout(width='1000px')))"
   ]
  },
  {
   "cell_type": "code",
   "execution_count": null,
   "id": "3021d85e-caae-48c7-8dbf-c0a6c597936a",
   "metadata": {},
   "outputs": [],
   "source": []
  }
 ],
 "metadata": {
  "kernelspec": {
   "display_name": "Python 3 (ipykernel)",
   "language": "python",
   "name": "python3"
  },
  "language_info": {
   "codemirror_mode": {
    "name": "ipython",
    "version": 3
   },
   "file_extension": ".py",
   "mimetype": "text/x-python",
   "name": "python",
   "nbconvert_exporter": "python",
   "pygments_lexer": "ipython3",
   "version": "3.8.0"
  }
 },
 "nbformat": 4,
 "nbformat_minor": 5
}
