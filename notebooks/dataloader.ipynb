{
 "cells": [
  {
   "cell_type": "code",
   "execution_count": 1,
   "id": "ccbd7362-0c38-4f94-86e6-059978946da1",
   "metadata": {
    "tags": []
   },
   "outputs": [],
   "source": [
    "import numpy as np\n",
    "\n",
    "from Utilities.dataloader import EEGDataLoader"
   ]
  },
  {
   "cell_type": "code",
   "execution_count": 9,
   "id": "a53fd853-08f8-4b18-8fea-a66c552c1c3f",
   "metadata": {
    "tags": []
   },
   "outputs": [],
   "source": [
    "from torchvision.transforms import Compose\n",
    "from Utilities.transforms import minmax\n",
    "\n",
    "transforms = Compose([\n",
    "    minmax,\n",
    "])"
   ]
  },
  {
   "cell_type": "code",
   "execution_count": 10,
   "id": "f0a52288-b1a6-481c-b5a4-4a00ec2932e2",
   "metadata": {
    "tags": []
   },
   "outputs": [],
   "source": [
    "dl = EEGDataLoader(\"./dataset\", transforms)"
   ]
  },
  {
   "cell_type": "code",
   "execution_count": 11,
   "id": "98b582d1-d0a7-4d0d-8459-b1ca3b58a26a",
   "metadata": {
    "tags": []
   },
   "outputs": [],
   "source": [
    "signal, label = dl.__getitem__(0)"
   ]
  },
  {
   "cell_type": "code",
   "execution_count": 12,
   "id": "bef7ea08-d4ce-4162-9a21-398bb1dffe8a",
   "metadata": {
    "tags": []
   },
   "outputs": [
    {
     "data": {
      "text/plain": [
       "[array([0.3383877 , 0.35159096, 0.3271622 , ..., 0.2492147 , 0.29051536,\n",
       "        0.33598888], dtype=float32),\n",
       " array([0.38666904, 0.36958817, 0.34857875, ..., 0.19699053, 0.21049109,\n",
       "        0.23203182], dtype=float32),\n",
       " array([0.3151038 , 0.26049662, 0.2306034 , ..., 0.6687113 , 0.6867463 ,\n",
       "        0.72542495], dtype=float32),\n",
       " array([0.5437487 , 0.5043528 , 0.44410792, ..., 0.43372348, 0.48839432,\n",
       "        0.5319283 ], dtype=float32),\n",
       " array([0.40796044, 0.40520126, 0.39020896, ..., 0.28931487, 0.3198051 ,\n",
       "        0.34577546], dtype=float32),\n",
       " array([0.31134108, 0.35672542, 0.40589893, ..., 0.5809113 , 0.5930332 ,\n",
       "        0.6036129 ], dtype=float32),\n",
       " array([0.32619557, 0.33155835, 0.34856895, ..., 0.5139507 , 0.51372766,\n",
       "        0.5328135 ], dtype=float32),\n",
       " array([0.7257626 , 0.7203146 , 0.63586664, ..., 0.17740795, 0.19802615,\n",
       "        0.20372914], dtype=float32),\n",
       " array([0.72411835, 0.6755562 , 0.6118929 , ..., 0.47111815, 0.48645443,\n",
       "        0.5012773 ], dtype=float32),\n",
       " array([0.33703455, 0.35940704, 0.37967187, ..., 0.6513852 , 0.66469675,\n",
       "        0.67576516], dtype=float32),\n",
       " array([0.69041556, 0.6573741 , 0.6483244 , ..., 0.53939676, 0.5428562 ,\n",
       "        0.56120753], dtype=float32),\n",
       " array([0.8425079 , 0.79301995, 0.7564723 , ..., 0.5923097 , 0.60760725,\n",
       "        0.6548666 ], dtype=float32),\n",
       " array([0.37851387, 0.37551254, 0.38911116, ..., 0.59513086, 0.59341216,\n",
       "        0.61802393], dtype=float32),\n",
       " array([0.7898152 , 0.7464188 , 0.71315956, ..., 0.6108885 , 0.62007004,\n",
       "        0.6283502 ], dtype=float32),\n",
       " array([0.6590178 , 0.5955149 , 0.5400823 , ..., 0.57976514, 0.56479573,\n",
       "        0.585205  ], dtype=float32),\n",
       " array([0.5166466 , 0.4895205 , 0.5255287 , ..., 0.52173173, 0.49373993,\n",
       "        0.52722585], dtype=float32)]"
      ]
     },
     "execution_count": 12,
     "metadata": {},
     "output_type": "execute_result"
    }
   ],
   "source": [
    "signal"
   ]
  },
  {
   "cell_type": "code",
   "execution_count": null,
   "id": "651d9197-5779-49cc-bd7d-4b10c4249bed",
   "metadata": {
    "tags": []
   },
   "outputs": [],
   "source": [
    "label"
   ]
  },
  {
   "cell_type": "code",
   "execution_count": null,
   "id": "0e96f2c4-f5aa-48d7-a15d-2a360b7ebe28",
   "metadata": {},
   "outputs": [],
   "source": []
  }
 ],
 "metadata": {
  "kernelspec": {
   "display_name": "Python 3 (ipykernel)",
   "language": "python",
   "name": "python3"
  },
  "language_info": {
   "codemirror_mode": {
    "name": "ipython",
    "version": 3
   },
   "file_extension": ".py",
   "mimetype": "text/x-python",
   "name": "python",
   "nbconvert_exporter": "python",
   "pygments_lexer": "ipython3",
   "version": "3.10.6"
  }
 },
 "nbformat": 4,
 "nbformat_minor": 5
}
