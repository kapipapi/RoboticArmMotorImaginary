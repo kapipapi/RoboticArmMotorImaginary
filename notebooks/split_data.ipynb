{
 "cells": [
  {
   "cell_type": "code",
   "execution_count": 4,
   "id": "a120f1b9-178a-447f-81fe-fe36746ab5da",
   "metadata": {
    "tags": []
   },
   "outputs": [],
   "source": [
    "import os\n",
    "from utils.converter import FileConverter"
   ]
  },
  {
   "cell_type": "code",
   "execution_count": 5,
   "id": "2f9efb81-eae5-479b-91e4-5cd6b56c20e0",
   "metadata": {},
   "outputs": [
    {
     "data": {
      "text/plain": [
       "['../dataset/kapi/kapi_1_4signals.bdf',\n",
       " '../dataset/kapi/kapi_4_4signals.bdf',\n",
       " '../dataset/kapi/kapi_2_4signals.bdf',\n",
       " '../dataset/kapi/kapi_7_4signals.bdf',\n",
       " '../dataset/kapi/kapi_5_4signals.bdf',\n",
       " '../dataset/kapi/kapi_6_4signals.bdf',\n",
       " '../dataset/kapi/kapi_8_4signals.bdf',\n",
       " '../dataset/kapi/kapi_3_4signals.bdf']"
      ]
     },
     "execution_count": 5,
     "metadata": {},
     "output_type": "execute_result"
    }
   ],
   "source": [
    "paths = []\n",
    "for root, _, files in os.walk(\"../dataset/kapi\"):\n",
    "    for file in files:\n",
    "        if file.endswith(\".bdf\"):\n",
    "            paths.append(os.path.join(root, file))\n",
    "\n",
    "paths"
   ]
  },
  {
   "cell_type": "code",
   "execution_count": 6,
   "id": "ff61c197-2724-45eb-b108-1e696e90a805",
   "metadata": {
    "tags": []
   },
   "outputs": [
    {
     "name": "stdout",
     "output_type": "stream",
     "text": [
      "../dataset/kapi/kapi_1_4signals.bdf\n",
      "../dataset/kapi/kapi_4_4signals.bdf                                                                           \n",
      "../dataset/kapi/kapi_2_4signals.bdf                                                                           \n",
      "../dataset/kapi/kapi_7_4signals.bdf                                                                           \n",
      "../dataset/kapi/kapi_5_4signals.bdf                                                                           \n",
      "../dataset/kapi/kapi_6_4signals.bdf                                                                           \n",
      "../dataset/kapi/kapi_8_4signals.bdf                                                                           \n",
      "../dataset/kapi/kapi_3_4signals.bdf                                                                           \n",
      "401 / 430                                                                                                     \r"
     ]
    }
   ],
   "source": [
    "for filename in paths:\n",
    "    print(filename)\n",
    "    FileConverter(channels=47).split_file(filename)"
   ]
  },
  {
   "cell_type": "code",
   "execution_count": null,
   "id": "fff7acc9-da82-4053-8a01-dd29671b18f5",
   "metadata": {},
   "outputs": [],
   "source": []
  }
 ],
 "metadata": {
  "kernelspec": {
   "display_name": "Python 3 (ipykernel)",
   "language": "python",
   "name": "python3"
  },
  "language_info": {
   "codemirror_mode": {
    "name": "ipython",
    "version": 3
   },
   "file_extension": ".py",
   "mimetype": "text/x-python",
   "name": "python",
   "nbconvert_exporter": "python",
   "pygments_lexer": "ipython3",
   "version": "3.8.0"
  }
 },
 "nbformat": 4,
 "nbformat_minor": 5
}
