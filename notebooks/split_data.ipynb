{
 "cells": [
  {
   "cell_type": "code",
   "execution_count": 1,
   "id": "5398b80d-423c-4400-928d-9b057dce05bb",
   "metadata": {
    "tags": []
   },
   "outputs": [],
   "source": [
    "import os\n",
    "from utils.converter_new import split_file"
   ]
  },
  {
   "cell_type": "code",
   "execution_count": 2,
   "id": "f9bfad80-3dbc-44e0-a65a-b2972fc3cb81",
   "metadata": {},
   "outputs": [
    {
     "data": {
      "text/plain": [
       "['../dataset/kapi/kapi_1_4signals.bdf',\n",
       " '../dataset/kapi/kapi_4_4signals.bdf',\n",
       " '../dataset/kapi/kapi_2_4signals.bdf',\n",
       " '../dataset/kapi/kapi_7_4signals.bdf',\n",
       " '../dataset/kapi/kapi_5_4signals.bdf',\n",
       " '../dataset/kapi/kapi_6_4signals.bdf',\n",
       " '../dataset/kapi/kapi_8_4signals.bdf',\n",
       " '../dataset/kapi/kapi_3_4signals.bdf']"
      ]
     },
     "execution_count": 2,
     "metadata": {},
     "output_type": "execute_result"
    }
   ],
   "source": [
    "paths = []\n",
    "for root, _, files in os.walk(\"../dataset/kapi\"):\n",
    "    for file in files:\n",
    "        if file.endswith(\".bdf\"):\n",
    "            paths.append(os.path.join(root, file))\n",
    "\n",
    "paths"
   ]
  },
  {
   "cell_type": "code",
   "execution_count": 4,
   "id": "1a9940c7-8995-4d22-8269-1078719a6b4c",
   "metadata": {
    "scrolled": true,
    "tags": []
   },
   "outputs": [
    {
     "name": "stdout",
     "output_type": "stream",
     "text": [
      "saving to: ../dataset/kapi_splited/kapi_1_4signals\n",
      "saving to: ../dataset/kapi_splited/kapi_4_4signals\n",
      "saving to: ../dataset/kapi_splited/kapi_2_4signals\n",
      "saving to: ../dataset/kapi_splited/kapi_7_4signals\n",
      "saving to: ../dataset/kapi_splited/kapi_5_4signals\n",
      "saving to: ../dataset/kapi_splited/kapi_6_4signals\n",
      "saving to: ../dataset/kapi_splited/kapi_8_4signals\n",
      "saving to: ../dataset/kapi_splited/kapi_3_4signals\n"
     ]
    }
   ],
   "source": [
    "for filename in paths:\n",
    "    split_file(filename, \"../dataset/kapi_splited\")"
   ]
  },
  {
   "cell_type": "code",
   "execution_count": null,
   "id": "a8778305-86f4-4ad1-b44c-8aaab00d3a94",
   "metadata": {},
   "outputs": [],
   "source": []
  }
 ],
 "metadata": {
  "kernelspec": {
   "display_name": "Python 3 (ipykernel)",
   "language": "python",
   "name": "python3"
  },
  "language_info": {
   "codemirror_mode": {
    "name": "ipython",
    "version": 3
   },
   "file_extension": ".py",
   "mimetype": "text/x-python",
   "name": "python",
   "nbconvert_exporter": "python",
   "pygments_lexer": "ipython3",
   "version": "3.8.0"
  }
 },
 "nbformat": 4,
 "nbformat_minor": 5
}
