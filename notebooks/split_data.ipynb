{
 "cells": [
  {
   "cell_type": "code",
   "execution_count": 7,
   "id": "5398b80d-423c-4400-928d-9b057dce05bb",
   "metadata": {
    "tags": []
   },
   "outputs": [],
   "source": [
    "import os\n",
    "from utils.converter import split_file\n",
    "\n",
    "dir = \"../dataset/pawel\""
   ]
  },
  {
   "cell_type": "code",
   "execution_count": 8,
   "id": "f9bfad80-3dbc-44e0-a65a-b2972fc3cb81",
   "metadata": {},
   "outputs": [
    {
     "data": {
      "text/plain": [
       "['../dataset/pawel/sesja2_pawel_zaciskanie_dloni.bdf',\n",
       " '../dataset/pawel/pablo_10_4signals.bdf',\n",
       " '../dataset/pawel/pablo_7_4signals.bdf',\n",
       " '../dataset/pawel/sesja1_pawel_zaciskanie_dloni.bdf',\n",
       " '../dataset/pawel/pablo_1_4signals.bdf',\n",
       " '../dataset/pawel/pablo_16_4signals.bdf',\n",
       " '../dataset/pawel/pablo_11_4signals.bdf',\n",
       " '../dataset/pawel/pablo_4_4signals.bdf',\n",
       " '../dataset/pawel/pablo_17_4signals.bdf',\n",
       " '../dataset/pawel/pablo_13_4signals.bdf',\n",
       " '../dataset/pawel/pablo_5_4signals.bdf',\n",
       " '../dataset/pawel/pablo_14_4signals.bdf',\n",
       " '../dataset/pawel/pablo_8_4signals.bdf',\n",
       " '../dataset/pawel/pablo_6_4signals.bdf',\n",
       " '../dataset/pawel/pablo_9_4signals.bdf',\n",
       " '../dataset/pawel/pablo_2_4signals.bdf',\n",
       " '../dataset/pawel/sesja4_pawel_zaciskanie_dloni.bdf',\n",
       " '../dataset/pawel/pablo_12_4signals.bdf',\n",
       " '../dataset/pawel/pablo_3_4signals.bdf',\n",
       " '../dataset/pawel/pablo_15_4signals.bdf',\n",
       " '../dataset/pawel/sesja3_pawel_zaciskanie_dloni.bdf']"
      ]
     },
     "execution_count": 8,
     "metadata": {},
     "output_type": "execute_result"
    }
   ],
   "source": [
    "paths = []\n",
    "for root, _, files in os.walk(dir):\n",
    "    for file in files:\n",
    "        if file.endswith(\".bdf\"):\n",
    "            paths.append(os.path.join(root, file))\n",
    "\n",
    "paths"
   ]
  },
  {
   "cell_type": "code",
   "execution_count": 9,
   "id": "1a9940c7-8995-4d22-8269-1078719a6b4c",
   "metadata": {
    "scrolled": true,
    "tags": []
   },
   "outputs": [
    {
     "name": "stdout",
     "output_type": "stream",
     "text": [
      "../dataset/pawel/sesja2_pawel_zaciskanie_dloni.bdf\n",
      "saving to: ../dataset/pawel_splited/sesja2_pawel_zaciskanie_dloni\n",
      "../dataset/pawel/pablo_10_4signals.bdf\n",
      "saving to: ../dataset/pawel_splited/pablo_10_4signals\n",
      "../dataset/pawel/pablo_7_4signals.bdf\n",
      "saving to: ../dataset/pawel_splited/pablo_7_4signals\n",
      "../dataset/pawel/sesja1_pawel_zaciskanie_dloni.bdf\n",
      "saving to: ../dataset/pawel_splited/sesja1_pawel_zaciskanie_dloni\n",
      "../dataset/pawel/pablo_1_4signals.bdf\n",
      "saving to: ../dataset/pawel_splited/pablo_1_4signals\n",
      "../dataset/pawel/pablo_16_4signals.bdf\n",
      "saving to: ../dataset/pawel_splited/pablo_16_4signals\n",
      "../dataset/pawel/pablo_11_4signals.bdf\n",
      "saving to: ../dataset/pawel_splited/pablo_11_4signals\n",
      "../dataset/pawel/pablo_4_4signals.bdf\n",
      "saving to: ../dataset/pawel_splited/pablo_4_4signals\n",
      "../dataset/pawel/pablo_17_4signals.bdf\n",
      "saving to: ../dataset/pawel_splited/pablo_17_4signals\n",
      "../dataset/pawel/pablo_13_4signals.bdf\n",
      "saving to: ../dataset/pawel_splited/pablo_13_4signals\n",
      "../dataset/pawel/pablo_5_4signals.bdf\n",
      "saving to: ../dataset/pawel_splited/pablo_5_4signals\n",
      "../dataset/pawel/pablo_14_4signals.bdf\n",
      "saving to: ../dataset/pawel_splited/pablo_14_4signals\n",
      "../dataset/pawel/pablo_8_4signals.bdf\n",
      "saving to: ../dataset/pawel_splited/pablo_8_4signals\n",
      "../dataset/pawel/pablo_6_4signals.bdf\n",
      "saving to: ../dataset/pawel_splited/pablo_6_4signals\n",
      "../dataset/pawel/pablo_9_4signals.bdf\n",
      "saving to: ../dataset/pawel_splited/pablo_9_4signals\n",
      "../dataset/pawel/pablo_2_4signals.bdf\n",
      "saving to: ../dataset/pawel_splited/pablo_2_4signals\n",
      "../dataset/pawel/sesja4_pawel_zaciskanie_dloni.bdf\n",
      "saving to: ../dataset/pawel_splited/sesja4_pawel_zaciskanie_dloni\n",
      "../dataset/pawel/pablo_12_4signals.bdf\n",
      "negative dimensions not allowed\n",
      "../dataset/pawel/pablo_3_4signals.bdf\n",
      "saving to: ../dataset/pawel_splited/pablo_3_4signals\n",
      "../dataset/pawel/pablo_15_4signals.bdf\n",
      "saving to: ../dataset/pawel_splited/pablo_15_4signals\n",
      "../dataset/pawel/sesja3_pawel_zaciskanie_dloni.bdf\n",
      "saving to: ../dataset/pawel_splited/sesja3_pawel_zaciskanie_dloni\n"
     ]
    }
   ],
   "source": [
    "for filename in paths:\n",
    "    print(filename)\n",
    "    try:\n",
    "        split_file(filename, dir+\"_splited\")\n",
    "    except Exception as e:\n",
    "        print(e)"
   ]
  },
  {
   "cell_type": "code",
   "execution_count": null,
   "id": "a8778305-86f4-4ad1-b44c-8aaab00d3a94",
   "metadata": {},
   "outputs": [],
   "source": []
  },
  {
   "cell_type": "code",
   "execution_count": null,
   "id": "436bb45a-7da2-41d7-bc45-c619498f7287",
   "metadata": {},
   "outputs": [],
   "source": []
  }
 ],
 "metadata": {
  "kernelspec": {
   "display_name": "Python 3 (ipykernel)",
   "language": "python",
   "name": "python3"
  },
  "language_info": {
   "codemirror_mode": {
    "name": "ipython",
    "version": 3
   },
   "file_extension": ".py",
   "mimetype": "text/x-python",
   "name": "python",
   "nbconvert_exporter": "python",
   "pygments_lexer": "ipython3",
   "version": "3.8.0"
  }
 },
 "nbformat": 4,
 "nbformat_minor": 5
}
